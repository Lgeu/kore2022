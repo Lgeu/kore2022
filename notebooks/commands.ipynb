{
 "cells": [
  {
   "cell_type": "code",
   "execution_count": 8,
   "id": "28ed7a95",
   "metadata": {
    "scrolled": true
   },
   "outputs": [
    {
     "name": "stdout",
     "output_type": "stream",
     "text": [
      "ref                                            title                                   author  lastRunTime          totalVotes  \r\n",
      "---------------------------------------------  --------------------------------------  ------  -------------------  ----------  \r\n",
      "nagiss/kore22-001s-scrape                      kore22-001s scrape                      nagiss  2022-06-27 14:41:43           0  \r\n",
      "nagiss/kore22-010-train-nnue                   kore22-010 train NNUE                   nagiss  2022-06-26 18:22:46           0  \r\n",
      "nagiss/kore22-001r-scrape                      kore22-001r scrape                      nagiss  2022-06-26 06:51:35           0  \r\n",
      "nagiss/kore22-009-nnuefeatureextractor-test    kore22-009 NNUEFeatureExtractor test    nagiss  2022-06-26 06:48:05           0  \r\n",
      "nagiss/kore22-001q-scrape                      kore22-001q scrape                      nagiss  2022-06-25 10:27:23           0  \r\n",
      "nagiss/kore22-008-stats-for-quantization       kore22-008 stats for quantization       nagiss  2022-06-24 15:04:53           0  \r\n",
      "nagiss/kore22-001p-scrape                      kore22-001p scrape                      nagiss  2022-06-24 05:15:55           0  \r\n",
      "nagiss/kore22-001o-scrape                      kore22-001o scrape                      nagiss  2022-06-23 10:41:43           0  \r\n",
      "nagiss/kore22-001n-scrape                      kore22-001n scrape                      nagiss  2022-06-22 14:30:08           0  \r\n",
      "nagiss/kore22-001m-scrape                      kore22-001m scrape                      nagiss  2022-06-21 10:32:26           0  \r\n",
      "nagiss/kore22-001l-scrape                      kore22-001l scrape                      nagiss  2022-06-20 12:55:21           0  \r\n",
      "nagiss/kore22-007-train-value-network          kore22-007 train value-network          nagiss  2022-06-24 05:39:30           0  \r\n",
      "nagiss/kore22-001k-scrape                      kore22-001k scrape                      nagiss  2022-06-19 10:11:59           0  \r\n",
      "nagiss/kore22-006-f003-validatesim-fastround3  kore22-006 f003 validateSim fastRound3  nagiss  2022-06-19 08:49:34           0  \r\n",
      "nagiss/kore22-005-featureextractor-test        kore22-005 featureExtractor test        nagiss  2022-06-19 09:32:30           0  \r\n",
      "nagiss/kore22-001j-scrape                      kore22-001j scrape                      nagiss  2022-06-18 07:41:47           0  \r\n",
      "nagiss/kore22-001i-scrape                      kore22-001i scrape                      nagiss  2022-06-17 08:22:14           0  \r\n",
      "nagiss/kore22-001h-scrape                      kore22-001h scrape                      nagiss  2022-06-16 16:42:23           0  \r\n",
      "nagiss/kore22-001g-scrape                      kore22-001g scrape                      nagiss  2022-06-15 16:37:13           0  \r\n",
      "nagiss/kore22-001f-scrape                      kore22-001f scrape                      nagiss  2022-06-13 15:52:34           0  \r\n"
     ]
    }
   ],
   "source": [
    "!kaggle kernels list -m --sort-by dateCreated"
   ]
  },
  {
   "cell_type": "code",
   "execution_count": null,
   "id": "0a681de0",
   "metadata": {},
   "outputs": [],
   "source": [
    "!kaggle kernels pull nagiss/kore22-002-kif-data-format"
   ]
  },
  {
   "cell_type": "code",
   "execution_count": 10,
   "id": "d84f915c",
   "metadata": {
    "scrolled": true
   },
   "outputs": [
    {
     "name": "stdout",
     "output_type": "stream",
     "text": [
      "Source code downloaded to /home/user/work/kore2022/notebooks/kore22-010-train-nnue.ipynb\r\n"
     ]
    }
   ],
   "source": [
    "!kaggle kernels pull nagiss/kore22-010-train-nnue"
   ]
  },
  {
   "cell_type": "code",
   "execution_count": null,
   "id": "0b6d9ad7",
   "metadata": {},
   "outputs": [],
   "source": []
  },
  {
   "cell_type": "code",
   "execution_count": 12,
   "id": "4bf43c1a",
   "metadata": {},
   "outputs": [],
   "source": [
    "#!rm -rf ../data/*"
   ]
  },
  {
   "cell_type": "code",
   "execution_count": 13,
   "id": "61bb2f9a",
   "metadata": {},
   "outputs": [
    {
     "name": "stdout",
     "output_type": "stream",
     "text": [
      "mkdir: cannot create directory ‘../data’: File exists\r\n"
     ]
    }
   ],
   "source": [
    "!mkdir ../data\n",
    "!mkdir ../data/kifs"
   ]
  },
  {
   "cell_type": "code",
   "execution_count": 14,
   "id": "8901672d",
   "metadata": {},
   "outputs": [],
   "source": [
    "from time import time, sleep"
   ]
  },
  {
   "cell_type": "code",
   "execution_count": 15,
   "id": "0f74abd8",
   "metadata": {},
   "outputs": [],
   "source": [
    "# t0 = time()\n",
    "# for i in range(ord(\"b\"), ord(\"s\")):\n",
    "#     c = chr(i)\n",
    "#     print(f\"time={int(time() - t0)}: downloading {c}...\")\n",
    "#     !mkdir ../data/kifs/001{c}\n",
    "#     !kaggle kernels output nagiss/kore22-001{c}-scrape -p ../data/kifs/001{c} > /dev/null\n",
    "#     sleep(10)"
   ]
  },
  {
   "cell_type": "code",
   "execution_count": 25,
   "id": "cf6753e5",
   "metadata": {},
   "outputs": [
    {
     "name": "stdout",
     "output_type": "stream",
     "text": [
      "/home/user/work/kore2022/data/kifs/b-e\n",
      "/home/user/work/kore2022/notebooks\n"
     ]
    }
   ],
   "source": [
    "!mkdir ../data/kifs/b-e\n",
    "%cd ../data/kifs/b-e\n",
    "!kaggle kernels output nagiss/kore22-002d-b-e-kif-data-format -p .\n",
    "!unzip -q kifs.zip\n",
    "%cd -"
   ]
  },
  {
   "cell_type": "code",
   "execution_count": 17,
   "id": "48cb941a",
   "metadata": {},
   "outputs": [
    {
     "name": "stdout",
     "output_type": "stream",
     "text": [
      "/home/user/work/kore2022/data/kifs/f-i\n",
      "Output file downloaded to ./kifs.zip\n",
      "Kernel log downloaded to ./kore22-002e-f-i-kif-data-format.log \n",
      "/home/user/work/kore2022/notebooks\n"
     ]
    }
   ],
   "source": [
    "!mkdir ../data/kifs/f-i\n",
    "%cd ../data/kifs/f-i\n",
    "!kaggle kernels output nagiss/kore22-002e-f-i-kif-data-format -p .\n",
    "!unzip -q kifs.zip\n",
    "%cd -"
   ]
  },
  {
   "cell_type": "code",
   "execution_count": 18,
   "id": "944a819d",
   "metadata": {},
   "outputs": [
    {
     "name": "stdout",
     "output_type": "stream",
     "text": [
      "/home/user/work/kore2022/data/kifs/j-m\n",
      "Output file downloaded to ./kifs.zip\n",
      "Kernel log downloaded to ./kore22-002f-j-m-kif-data-format.log \n",
      "/home/user/work/kore2022/notebooks\n"
     ]
    }
   ],
   "source": [
    "!mkdir ../data/kifs/j-m\n",
    "%cd ../data/kifs/j-m\n",
    "!kaggle kernels output nagiss/kore22-002f-j-m-kif-data-format -p .\n",
    "!unzip -q kifs.zip\n",
    "%cd -"
   ]
  },
  {
   "cell_type": "code",
   "execution_count": 19,
   "id": "bc24416e",
   "metadata": {},
   "outputs": [
    {
     "name": "stdout",
     "output_type": "stream",
     "text": [
      "/home/user/work/kore2022/data/kifs/n-q\n",
      "Output file downloaded to ./kifs.zip\n",
      "Kernel log downloaded to ./kore22-002g-n-q-kif-data-format.log \n",
      "/home/user/work/kore2022/notebooks\n"
     ]
    }
   ],
   "source": [
    "!mkdir ../data/kifs/n-q\n",
    "%cd ../data/kifs/n-q\n",
    "!kaggle kernels output nagiss/kore22-002g-n-q-kif-data-format -p .\n",
    "!unzip -q kifs.zip\n",
    "%cd -"
   ]
  },
  {
   "cell_type": "code",
   "execution_count": 26,
   "id": "19cfd156",
   "metadata": {},
   "outputs": [
    {
     "name": "stdout",
     "output_type": "stream",
     "text": [
      "/home/user/work/kore2022/data/kifs/r-u\n",
      "/home/user/work/kore2022/notebooks\n"
     ]
    }
   ],
   "source": [
    "!mkdir ../data/kifs/r-u\n",
    "%cd ../data/kifs/r-u\n",
    "!kaggle kernels output nagiss/kore22-002h-r-u-kif-data-format -p .\n",
    "!unzip -q kifs.zip\n",
    "%cd -"
   ]
  },
  {
   "cell_type": "code",
   "execution_count": 27,
   "id": "fd2dacd7",
   "metadata": {},
   "outputs": [
    {
     "name": "stdout",
     "output_type": "stream",
     "text": [
      "/home/user/work/kore2022/data/kifs/v-y\n",
      "Output file downloaded to ./kifs.zip\n",
      "Kernel log downloaded to ./kore22-002i-v-y-kif-data-format.log \n",
      "/home/user/work/kore2022/notebooks\n"
     ]
    }
   ],
   "source": [
    "!mkdir ../data/kifs/v-y\n",
    "%cd ../data/kifs/v-y\n",
    "!kaggle kernels output nagiss/kore22-002i-v-y-kif-data-format -p .\n",
    "!unzip -q kifs.zip\n",
    "%cd -"
   ]
  },
  {
   "cell_type": "code",
   "execution_count": 32,
   "id": "4c9ed8ab",
   "metadata": {},
   "outputs": [
    {
     "name": "stdout",
     "output_type": "stream",
     "text": [
      "mkdir: cannot create directory ‘../data/kifs/z-zc’: File exists\n",
      "/home/user/work/kore2022/data/kifs/z-zc\n",
      "--2022-07-09 14:18:56--  https://kkb-production.jupyter-proxy.kaggle.net/k/100415120/eyJhbGciOiJkaXIiLCJlbmMiOiJBMTI4Q0JDLUhTMjU2IiwidHlwIjoiSldUIn0..bITOFGf05f5eJHwE0b9JXw.JIC6C8mJdfFpsYmhcAZ9UOwfxTnLCPOIcDv57QrtAq_N13FyquDh7uR76DdBRiaJZAGEbXhRV0Kc0mFH8aQrYYziNUAXXEk5u2StBl-zzKXB2FfrWrXvkfKeiHgXo_6Ijm5CoXva18FJP5x9a0mH7dAU0wOXQpOnTjkrqeY_2YfQuXFMA3IR77nHjDeADyoMRXoxdScaJC3Bdv3GWR1myg.u-Rm7lLlTUUP7e6bTbZwOA/proxy/files/kifs.zip\n",
      "Resolving kkb-production.jupyter-proxy.kaggle.net (kkb-production.jupyter-proxy.kaggle.net)... 35.244.180.134\n",
      "Connecting to kkb-production.jupyter-proxy.kaggle.net (kkb-production.jupyter-proxy.kaggle.net)|35.244.180.134|:443... connected.\n",
      "HTTP request sent, awaiting response... 200 OK\n",
      "Length: 2623637680 (2.4G) [application/zip]\n",
      "Saving to: ‘kifs.zip’\n",
      "\n",
      "kifs.zip            100%[===================>]   2.44G   217MB/s    in 12s     \n",
      "\n",
      "2022-07-09 14:19:08 (205 MB/s) - ‘kifs.zip’ saved [2623637680/2623637680]\n",
      "\n",
      "/home/user/work/kore2022/notebooks\n"
     ]
    }
   ],
   "source": [
    "!mkdir ../data/kifs/z-zc\n",
    "%cd ../data/kifs/z-zc\n",
    "!kaggle kernels output nagiss/kore22-002j-z-zc-kif-data-format -p .\n",
    "#!wget https://kkb-production.jupyter-proxy.kaggle.net/k/100415120/eyJhbGciOiJkaXIiLCJlbmMiOiJBMTI4Q0JDLUhTMjU2IiwidHlwIjoiSldUIn0..bITOFGf05f5eJHwE0b9JXw.JIC6C8mJdfFpsYmhcAZ9UOwfxTnLCPOIcDv57QrtAq_N13FyquDh7uR76DdBRiaJZAGEbXhRV0Kc0mFH8aQrYYziNUAXXEk5u2StBl-zzKXB2FfrWrXvkfKeiHgXo_6Ijm5CoXva18FJP5x9a0mH7dAU0wOXQpOnTjkrqeY_2YfQuXFMA3IR77nHjDeADyoMRXoxdScaJC3Bdv3GWR1myg.u-Rm7lLlTUUP7e6bTbZwOA/proxy/files/kifs.zip\n",
    "!unzip -q kifs.zip\n",
    "%cd -"
   ]
  },
  {
   "cell_type": "code",
   "execution_count": 30,
   "id": "46583d30",
   "metadata": {},
   "outputs": [],
   "source": [
    "!ls ../data/kifs/z-zc"
   ]
  },
  {
   "cell_type": "code",
   "execution_count": null,
   "id": "f7161a8c",
   "metadata": {},
   "outputs": [],
   "source": []
  },
  {
   "cell_type": "code",
   "execution_count": 12,
   "id": "ff28ed82",
   "metadata": {},
   "outputs": [],
   "source": [
    "# %cd ../data/kifs/b-k\n",
    "# !jar xvf kifs.zip\n",
    "# %cd -"
   ]
  },
  {
   "cell_type": "code",
   "execution_count": 17,
   "id": "84330c72",
   "metadata": {},
   "outputs": [
    {
     "name": "stdout",
     "output_type": "stream",
     "text": [
      "12000\r\n"
     ]
    }
   ],
   "source": [
    "!ls -1 ../data/kifs/b-e/kifs | wc -l"
   ]
  },
  {
   "cell_type": "code",
   "execution_count": 11,
   "id": "c0ca0fa2",
   "metadata": {},
   "outputs": [],
   "source": []
  },
  {
   "cell_type": "code",
   "execution_count": null,
   "id": "276eb2be",
   "metadata": {},
   "outputs": [],
   "source": []
  },
  {
   "cell_type": "code",
   "execution_count": 19,
   "id": "c633eeb3",
   "metadata": {},
   "outputs": [
    {
     "name": "stdout",
     "output_type": "stream",
     "text": [
      "Warning: Permanently added the ECDSA host key for IP address '140.82.113.4' to the list of known hosts.\n",
      "remote: Enumerating objects: 5, done.\u001b[K\n",
      "remote: Counting objects: 100% (5/5), done.\u001b[K\n",
      "remote: Compressing objects: 100% (1/1), done.\u001b[K\n",
      "remote: Total 3 (delta 2), reused 3 (delta 2), pack-reused 0\u001b[K\n",
      "Unpacking objects: 100% (3/3), 473 bytes | 13.00 KiB/s, done.\n",
      "From github.com:Lgeu/kore2022\n",
      "   09d5912..98d918a  master     -> origin/master\n",
      "Updating 09d5912..98d918a\n",
      "Fast-forward\n",
      " kore_fleets.cpp | 25 \u001b[32m++++++++++++++\u001b[m\u001b[31m-----------\u001b[m\n",
      " 1 file changed, 14 insertions(+), 11 deletions(-)\n"
     ]
    }
   ],
   "source": [
    "!git pull"
   ]
  },
  {
   "cell_type": "code",
   "execution_count": 3,
   "id": "80fef38c",
   "metadata": {},
   "outputs": [
    {
     "name": "stdout",
     "output_type": "stream",
     "text": [
      "124K\t./.ipynb_checkpoints\n",
      "4.0K\t./010/.ipynb_checkpoints\n",
      "532K\t./010\n",
      "4.0K\t./012/.ipynb_checkpoints\n",
      "126G\t./012\n",
      "126G\t.\n"
     ]
    }
   ],
   "source": [
    "!du -h | head"
   ]
  },
  {
   "cell_type": "code",
   "execution_count": null,
   "id": "33c37e63",
   "metadata": {},
   "outputs": [],
   "source": []
  }
 ],
 "metadata": {
  "kernelspec": {
   "display_name": "Python 3 (ipykernel)",
   "language": "python",
   "name": "python3"
  },
  "language_info": {
   "codemirror_mode": {
    "name": "ipython",
    "version": 3
   },
   "file_extension": ".py",
   "mimetype": "text/x-python",
   "name": "python",
   "nbconvert_exporter": "python",
   "pygments_lexer": "ipython3",
   "version": "3.9.12"
  }
 },
 "nbformat": 4,
 "nbformat_minor": 5
}
