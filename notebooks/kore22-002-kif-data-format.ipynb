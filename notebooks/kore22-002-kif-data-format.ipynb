{
 "cells": [
  {
   "cell_type": "code",
   "execution_count": 1,
   "metadata": {
    "execution": {
     "iopub.execute_input": "2022-06-08T01:36:53.475072Z",
     "iopub.status.busy": "2022-06-08T01:36:53.474584Z",
     "iopub.status.idle": "2022-06-08T01:36:53.508997Z",
     "shell.execute_reply": "2022-06-08T01:36:53.50806Z",
     "shell.execute_reply.started": "2022-06-08T01:36:53.474942Z"
    }
   },
   "outputs": [],
   "source": [
    "import os\n",
    "import sys\n",
    "from time import time, sleep\n",
    "import json\n",
    "from pathlib import Path\n",
    "import datetime\n",
    "import collections\n",
    "\n",
    "import numpy as np\n",
    "import pandas as pd\n",
    "import matplotlib.pyplot as plt"
   ]
  },
  {
   "cell_type": "code",
   "execution_count": 6,
   "metadata": {
    "execution": {
     "iopub.execute_input": "2022-06-08T01:36:53.652658Z",
     "iopub.status.busy": "2022-06-08T01:36:53.652038Z",
     "iopub.status.idle": "2022-06-08T01:36:53.65808Z",
     "shell.execute_reply": "2022-06-08T01:36:53.657211Z",
     "shell.execute_reply.started": "2022-06-08T01:36:53.652608Z"
    }
   },
   "outputs": [],
   "source": [
    "scraped_data_directories = [\"../data/kifs/001d\"]\n",
    "scraped_data_directories = [Path(d) for d in scraped_data_directories]"
   ]
  },
  {
   "cell_type": "code",
   "execution_count": null,
   "metadata": {},
   "outputs": [],
   "source": [
    "len()"
   ]
  },
  {
   "cell_type": "code",
   "execution_count": 7,
   "metadata": {
    "execution": {
     "iopub.execute_input": "2022-06-08T01:36:54.893612Z",
     "iopub.status.busy": "2022-06-08T01:36:54.892988Z",
     "iopub.status.idle": "2022-06-08T01:36:55.123759Z",
     "shell.execute_reply": "2022-06-08T01:36:55.123006Z",
     "shell.execute_reply.started": "2022-06-08T01:36:54.893567Z"
    }
   },
   "outputs": [
    {
     "data": {
      "text/plain": [
       "500"
      ]
     },
     "execution_count": 7,
     "metadata": {},
     "output_type": "execute_result"
    }
   ],
   "source": [
    "files = [file for directory in scraped_data_directories for file in directory.iterdir() if file.suffix == \".json\" and file.stem != \"__output__\"]\n",
    "files.sort()\n",
    "len(files)"
   ]
  },
  {
   "cell_type": "code",
   "execution_count": null,
   "metadata": {
    "execution": {
     "iopub.execute_input": "2022-06-08T01:36:55.215779Z",
     "iopub.status.busy": "2022-06-08T01:36:55.215142Z",
     "iopub.status.idle": "2022-06-08T01:36:55.233294Z",
     "shell.execute_reply": "2022-06-08T01:36:55.232104Z",
     "shell.execute_reply.started": "2022-06-08T01:36:55.215719Z"
    },
    "scrolled": true
   },
   "outputs": [],
   "source": [
    "def dump_kif(kif_json, kif_info_json, f=None):\n",
    "    assert kif_json[\"info\"][\"EpisodeId\"] == kif_info_json[\"id\"]\n",
    "    print(\"kore_kif_v1\", file=f)\n",
    "    print(f'EpisodeId{kif_json[\"info\"][\"EpisodeId\"]}', file=f)\n",
    "    print(f'submissionId{kif_info_json[\"agents\"][0][\"submissionId\"]}', file=f)\n",
    "    print(f'submissionId{kif_info_json[\"agents\"][1][\"submissionId\"]}', file=f)\n",
    "    \n",
    "    for i, step in enumerate(kif_json[\"steps\"]):\n",
    "        if i == 0:\n",
    "            print(\"===\", file=f)\n",
    "        else:\n",
    "            print(\"---\", file=f)\n",
    "        for player in range(2):\n",
    "            player_actions = step[player][\"action\"]\n",
    "            print(len(player_actions), file=f)\n",
    "            for shipyard_id, action in player_actions.items():\n",
    "                print(shipyard_id, action, file=f)\n",
    "        \n",
    "        print(i, file=f)\n",
    "        kores = step[0][\"observation\"][\"kore\"]\n",
    "        for y in range(21):\n",
    "            row = [int(k) if k == int(k) else k for k in kores[y*21:y*21+21]]\n",
    "            print(*row, file=f)\n",
    "        \n",
    "        for player in range(2):\n",
    "            print(step[player][\"observation\"][\"remainingOverageTime\"], file=f)\n",
    "            player_kore, shipyards, fleets = step[0][\"observation\"][\"players\"][player]\n",
    "            print(player_kore, file=f)\n",
    "            print(len(shipyards), file=f)\n",
    "            for shipyard_id, shipyard in shipyards.items():\n",
    "                assert len(shipyard) == 3\n",
    "                assert int(shipyard_id.split(\"-\")[1]) <= 400\n",
    "                assert int(shipyard_id.split(\"-\")[1]) < 100\n",
    "                print(shipyard_id, *shipyard, file=f)\n",
    "            print(len(fleets), file=f)\n",
    "            for fleet_id, fleet in fleets.items():\n",
    "                assert len(fleet) == 5\n",
    "                assert int(fleet_id.split(\"-\")[1]) <= 400\n",
    "                assert int(fleet_id.split(\"-\")[1]) < 100\n",
    "                if fleet[4] == \"\":\n",
    "                    fleet = fleet[:4] + [\"null\"]\n",
    "                print(fleet_id, *fleet, file=f)\n",
    "    print(\"===\", file=f)\n",
    "    print(-1, file=f)\n",
    "    print(*kif_json[\"rewards\"], file=f)\n",
    "\n",
    "#dump_kif(kif_json, kif_info_json)"
   ]
  },
  {
   "cell_type": "code",
   "execution_count": null,
   "metadata": {
    "execution": {
     "iopub.execute_input": "2022-06-08T01:36:55.545267Z",
     "iopub.status.busy": "2022-06-08T01:36:55.544875Z",
     "iopub.status.idle": "2022-06-08T01:37:37.950429Z",
     "shell.execute_reply": "2022-06-08T01:37:37.949258Z",
     "shell.execute_reply.started": "2022-06-08T01:36:55.54523Z"
    }
   },
   "outputs": [],
   "source": [
    "for kif_file, kif_info_file in zip(files[::2], files[1::2]):\n",
    "    with open(kif_file) as f:\n",
    "        kif_json = json.load(f)\n",
    "    with open(kif_info_file) as f:\n",
    "        kif_info_json = json.load(f)\n",
    "    with open(f\"./{kif_file.stem}.kif\", \"w\") as f:\n",
    "        dump_kif(kif_json, kif_info_json, f)"
   ]
  },
  {
   "cell_type": "code",
   "execution_count": null,
   "metadata": {},
   "outputs": [],
   "source": []
  }
 ],
 "metadata": {
  "kernelspec": {
   "display_name": "Python 3 (ipykernel)",
   "language": "python",
   "name": "python3"
  },
  "language_info": {
   "codemirror_mode": {
    "name": "ipython",
    "version": 3
   },
   "file_extension": ".py",
   "mimetype": "text/x-python",
   "name": "python",
   "nbconvert_exporter": "python",
   "pygments_lexer": "ipython3",
   "version": "3.9.12"
  }
 },
 "nbformat": 4,
 "nbformat_minor": 4
}
